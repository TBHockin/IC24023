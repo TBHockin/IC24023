{
 "cells": [
  {
   "cell_type": "code",
   "execution_count": 2,
   "metadata": {},
   "outputs": [],
   "source": [
    "#import\n",
    "import pandas as pd\n",
    "import json"
   ]
  },
  {
   "cell_type": "code",
   "execution_count": 3,
   "metadata": {},
   "outputs": [
    {
     "data": {
      "text/html": [
       "<div>\n",
       "<style scoped>\n",
       "    .dataframe tbody tr th:only-of-type {\n",
       "        vertical-align: middle;\n",
       "    }\n",
       "\n",
       "    .dataframe tbody tr th {\n",
       "        vertical-align: top;\n",
       "    }\n",
       "\n",
       "    .dataframe thead th {\n",
       "        text-align: right;\n",
       "    }\n",
       "</style>\n",
       "<table border=\"1\" class=\"dataframe\">\n",
       "  <thead>\n",
       "    <tr style=\"text-align: right;\">\n",
       "      <th></th>\n",
       "      <th>AY</th>\n",
       "      <th>Form</th>\n",
       "      <th>Form-Type</th>\n",
       "      <th>Timestamp</th>\n",
       "      <th>AM-PM</th>\n",
       "      <th>Year-Date</th>\n",
       "      <th>Year-Num</th>\n",
       "      <th>Month-Num</th>\n",
       "      <th>Month-Char</th>\n",
       "      <th>UniqueID</th>\n",
       "      <th>...</th>\n",
       "      <th>Full_Energy</th>\n",
       "      <th>energy_tech-sleep</th>\n",
       "      <th>energy_natural-light</th>\n",
       "      <th>energy_fridge</th>\n",
       "      <th>energy_bulbs</th>\n",
       "      <th>Full_Cleaning</th>\n",
       "      <th>cleaning_supplies</th>\n",
       "      <th>cleaning_cleaner</th>\n",
       "      <th>cleaning_microwave</th>\n",
       "      <th>cleaning_nontoxic</th>\n",
       "    </tr>\n",
       "  </thead>\n",
       "  <tbody>\n",
       "    <tr>\n",
       "      <th>0</th>\n",
       "      <td>2022-2023</td>\n",
       "      <td>2022-2023 Registration</td>\n",
       "      <td>Registration</td>\n",
       "      <td>08/19/2022 12:11:45 PM</td>\n",
       "      <td>PM</td>\n",
       "      <td>2022</td>\n",
       "      <td>2022</td>\n",
       "      <td>8</td>\n",
       "      <td>August</td>\n",
       "      <td>111006945</td>\n",
       "      <td>...</td>\n",
       "      <td>NaN</td>\n",
       "      <td>NaN</td>\n",
       "      <td>NaN</td>\n",
       "      <td>NaN</td>\n",
       "      <td>NaN</td>\n",
       "      <td>NaN</td>\n",
       "      <td>NaN</td>\n",
       "      <td>NaN</td>\n",
       "      <td>NaN</td>\n",
       "      <td>NaN</td>\n",
       "    </tr>\n",
       "    <tr>\n",
       "      <th>1</th>\n",
       "      <td>2022-2023</td>\n",
       "      <td>2022-2023 Registration</td>\n",
       "      <td>Registration</td>\n",
       "      <td>08/20/2022 3:31:08 PM</td>\n",
       "      <td>PM</td>\n",
       "      <td>2022</td>\n",
       "      <td>2022</td>\n",
       "      <td>8</td>\n",
       "      <td>August</td>\n",
       "      <td>111003962</td>\n",
       "      <td>...</td>\n",
       "      <td>NaN</td>\n",
       "      <td>NaN</td>\n",
       "      <td>NaN</td>\n",
       "      <td>NaN</td>\n",
       "      <td>NaN</td>\n",
       "      <td>NaN</td>\n",
       "      <td>NaN</td>\n",
       "      <td>NaN</td>\n",
       "      <td>NaN</td>\n",
       "      <td>NaN</td>\n",
       "    </tr>\n",
       "    <tr>\n",
       "      <th>2</th>\n",
       "      <td>2022-2023</td>\n",
       "      <td>2022-2023 Registration</td>\n",
       "      <td>Registration</td>\n",
       "      <td>08/24/2022 9:05:24 PM</td>\n",
       "      <td>PM</td>\n",
       "      <td>2022</td>\n",
       "      <td>2022</td>\n",
       "      <td>8</td>\n",
       "      <td>August</td>\n",
       "      <td>111002137</td>\n",
       "      <td>...</td>\n",
       "      <td>NaN</td>\n",
       "      <td>NaN</td>\n",
       "      <td>NaN</td>\n",
       "      <td>NaN</td>\n",
       "      <td>NaN</td>\n",
       "      <td>NaN</td>\n",
       "      <td>NaN</td>\n",
       "      <td>NaN</td>\n",
       "      <td>NaN</td>\n",
       "      <td>NaN</td>\n",
       "    </tr>\n",
       "    <tr>\n",
       "      <th>3</th>\n",
       "      <td>2022-2023</td>\n",
       "      <td>2022-2023 Registration</td>\n",
       "      <td>Registration</td>\n",
       "      <td>08/25/2022 9:12:33 AM</td>\n",
       "      <td>AM</td>\n",
       "      <td>2022</td>\n",
       "      <td>2022</td>\n",
       "      <td>8</td>\n",
       "      <td>August</td>\n",
       "      <td>111006111</td>\n",
       "      <td>...</td>\n",
       "      <td>NaN</td>\n",
       "      <td>NaN</td>\n",
       "      <td>NaN</td>\n",
       "      <td>NaN</td>\n",
       "      <td>NaN</td>\n",
       "      <td>NaN</td>\n",
       "      <td>NaN</td>\n",
       "      <td>NaN</td>\n",
       "      <td>NaN</td>\n",
       "      <td>NaN</td>\n",
       "    </tr>\n",
       "    <tr>\n",
       "      <th>4</th>\n",
       "      <td>2022-2023</td>\n",
       "      <td>2022-2023 Registration</td>\n",
       "      <td>Registration</td>\n",
       "      <td>08/25/2022 9:31:12 AM</td>\n",
       "      <td>AM</td>\n",
       "      <td>2022</td>\n",
       "      <td>2022</td>\n",
       "      <td>8</td>\n",
       "      <td>August</td>\n",
       "      <td>111002154</td>\n",
       "      <td>...</td>\n",
       "      <td>NaN</td>\n",
       "      <td>NaN</td>\n",
       "      <td>NaN</td>\n",
       "      <td>NaN</td>\n",
       "      <td>NaN</td>\n",
       "      <td>NaN</td>\n",
       "      <td>NaN</td>\n",
       "      <td>NaN</td>\n",
       "      <td>NaN</td>\n",
       "      <td>NaN</td>\n",
       "    </tr>\n",
       "  </tbody>\n",
       "</table>\n",
       "<p>5 rows × 78 columns</p>\n",
       "</div>"
      ],
      "text/plain": [
       "          AY                    Form     Form-Type               Timestamp  \\\n",
       "0  2022-2023  2022-2023 Registration  Registration  08/19/2022 12:11:45 PM   \n",
       "1  2022-2023  2022-2023 Registration  Registration   08/20/2022 3:31:08 PM   \n",
       "2  2022-2023  2022-2023 Registration  Registration   08/24/2022 9:05:24 PM   \n",
       "3  2022-2023  2022-2023 Registration  Registration   08/25/2022 9:12:33 AM   \n",
       "4  2022-2023  2022-2023 Registration  Registration   08/25/2022 9:31:12 AM   \n",
       "\n",
       "  AM-PM  Year-Date  Year-Num  Month-Num Month-Char   UniqueID  ...  \\\n",
       "0    PM       2022      2022          8     August  111006945  ...   \n",
       "1    PM       2022      2022          8     August  111003962  ...   \n",
       "2    PM       2022      2022          8     August  111002137  ...   \n",
       "3    AM       2022      2022          8     August  111006111  ...   \n",
       "4    AM       2022      2022          8     August  111002154  ...   \n",
       "\n",
       "  Full_Energy energy_tech-sleep energy_natural-light energy_fridge  \\\n",
       "0         NaN               NaN                  NaN           NaN   \n",
       "1         NaN               NaN                  NaN           NaN   \n",
       "2         NaN               NaN                  NaN           NaN   \n",
       "3         NaN               NaN                  NaN           NaN   \n",
       "4         NaN               NaN                  NaN           NaN   \n",
       "\n",
       "   energy_bulbs Full_Cleaning cleaning_supplies cleaning_cleaner  \\\n",
       "0           NaN           NaN               NaN              NaN   \n",
       "1           NaN           NaN               NaN              NaN   \n",
       "2           NaN           NaN               NaN              NaN   \n",
       "3           NaN           NaN               NaN              NaN   \n",
       "4           NaN           NaN               NaN              NaN   \n",
       "\n",
       "  cleaning_microwave cleaning_nontoxic  \n",
       "0                NaN               NaN  \n",
       "1                NaN               NaN  \n",
       "2                NaN               NaN  \n",
       "3                NaN               NaN  \n",
       "4                NaN               NaN  \n",
       "\n",
       "[5 rows x 78 columns]"
      ]
     },
     "execution_count": 3,
     "metadata": {},
     "output_type": "execute_result"
    }
   ],
   "source": [
    "gtforms = pd.read_csv('/home/mids/m263183/sd212/IC24023/Data_Level3_GreenTerp - Cleaned.csv',low_memory=False)\n",
    "reggtforms = gtforms[gtforms['Form-Type'] == 'Registration']\n",
    "certgtforms = gtforms[gtforms['Form-Type'] == 'Certification']\n",
    "btu = pd.read_csv('All_Buildings_kBtu.csv',thousands=',')\n",
    "resBtu = btu[btu[\"Type\"] == 'Residential']\n",
    "resBtu = resBtu.rename(columns={'ID':'number'})\n",
    "btunuml = resBtu['number'].to_list()\n",
    "gtforms.head()"
   ]
  },
  {
   "cell_type": "code",
   "execution_count": 4,
   "metadata": {},
   "outputs": [
    {
     "data": {
      "text/html": [
       "<div>\n",
       "<style scoped>\n",
       "    .dataframe tbody tr th:only-of-type {\n",
       "        vertical-align: middle;\n",
       "    }\n",
       "\n",
       "    .dataframe tbody tr th {\n",
       "        vertical-align: top;\n",
       "    }\n",
       "\n",
       "    .dataframe thead th {\n",
       "        text-align: right;\n",
       "    }\n",
       "</style>\n",
       "<table border=\"1\" class=\"dataframe\">\n",
       "  <thead>\n",
       "    <tr style=\"text-align: right;\">\n",
       "      <th></th>\n",
       "      <th>name</th>\n",
       "      <th>code</th>\n",
       "      <th>bld num</th>\n",
       "      <th>lng</th>\n",
       "      <th>lat</th>\n",
       "    </tr>\n",
       "  </thead>\n",
       "  <tbody>\n",
       "    <tr>\n",
       "      <th>74</th>\n",
       "      <td>Energy Plant</td>\n",
       "      <td></td>\n",
       "      <td>001</td>\n",
       "      <td>-76.935683449548</td>\n",
       "      <td>38.98585305</td>\n",
       "    </tr>\n",
       "    <tr>\n",
       "      <th>101</th>\n",
       "      <td>Harrison Lab</td>\n",
       "      <td>HAR</td>\n",
       "      <td>002</td>\n",
       "      <td>-76.9356386027744</td>\n",
       "      <td>38.98703195</td>\n",
       "    </tr>\n",
       "    <tr>\n",
       "      <th>341</th>\n",
       "      <td>Service Building (University of Maryland, Police)</td>\n",
       "      <td></td>\n",
       "      <td>003</td>\n",
       "      <td>-76.9361406358543</td>\n",
       "      <td>38.98597645</td>\n",
       "    </tr>\n",
       "    <tr>\n",
       "      <th>328</th>\n",
       "      <td>Ritchie Coliseum</td>\n",
       "      <td>RIT</td>\n",
       "      <td>004</td>\n",
       "      <td>-76.936456447182</td>\n",
       "      <td>38.98504805</td>\n",
       "    </tr>\n",
       "    <tr>\n",
       "      <th>311</th>\n",
       "      <td>Plant Operations and Maintenance Shops</td>\n",
       "      <td></td>\n",
       "      <td>006</td>\n",
       "      <td>-76.93452175</td>\n",
       "      <td>38.9858077</td>\n",
       "    </tr>\n",
       "    <tr>\n",
       "      <th>...</th>\n",
       "      <td>...</td>\n",
       "      <td>...</td>\n",
       "      <td>...</td>\n",
       "      <td>...</td>\n",
       "      <td>...</td>\n",
       "    </tr>\n",
       "    <tr>\n",
       "      <th>210</th>\n",
       "      <td>Parking Lot D</td>\n",
       "      <td></td>\n",
       "      <td>p257</td>\n",
       "      <td>-76.9453188124738</td>\n",
       "      <td>38.98552325</td>\n",
       "    </tr>\n",
       "    <tr>\n",
       "      <th>218</th>\n",
       "      <td>Parking Lot G</td>\n",
       "      <td></td>\n",
       "      <td>p258</td>\n",
       "      <td>-76.9385438831386</td>\n",
       "      <td>38.9919303</td>\n",
       "    </tr>\n",
       "    <tr>\n",
       "      <th>285</th>\n",
       "      <td>Parking Lot U6</td>\n",
       "      <td></td>\n",
       "      <td>p260</td>\n",
       "      <td>-76.9450241678599</td>\n",
       "      <td>38.9828241</td>\n",
       "    </tr>\n",
       "    <tr>\n",
       "      <th>265</th>\n",
       "      <td>Parking Lot Q1</td>\n",
       "      <td></td>\n",
       "      <td>p262</td>\n",
       "      <td>-76.9434800720619</td>\n",
       "      <td>38.9911726</td>\n",
       "    </tr>\n",
       "    <tr>\n",
       "      <th>271</th>\n",
       "      <td>Parking Lot RR2</td>\n",
       "      <td></td>\n",
       "      <td>p265</td>\n",
       "      <td>-76.9379107465909</td>\n",
       "      <td>38.9948436</td>\n",
       "    </tr>\n",
       "  </tbody>\n",
       "</table>\n",
       "<p>415 rows × 5 columns</p>\n",
       "</div>"
      ],
      "text/plain": [
       "                                                  name code bld num  \\\n",
       "74                                        Energy Plant          001   \n",
       "101                                       Harrison Lab  HAR     002   \n",
       "341  Service Building (University of Maryland, Police)          003   \n",
       "328                                   Ritchie Coliseum  RIT     004   \n",
       "311             Plant Operations and Maintenance Shops          006   \n",
       "..                                                 ...  ...     ...   \n",
       "210                                      Parking Lot D         p257   \n",
       "218                                      Parking Lot G         p258   \n",
       "285                                     Parking Lot U6         p260   \n",
       "265                                     Parking Lot Q1         p262   \n",
       "271                                    Parking Lot RR2         p265   \n",
       "\n",
       "                   lng          lat  \n",
       "74    -76.935683449548  38.98585305  \n",
       "101  -76.9356386027744  38.98703195  \n",
       "341  -76.9361406358543  38.98597645  \n",
       "328   -76.936456447182  38.98504805  \n",
       "311       -76.93452175   38.9858077  \n",
       "..                 ...          ...  \n",
       "210  -76.9453188124738  38.98552325  \n",
       "218  -76.9385438831386   38.9919303  \n",
       "285  -76.9450241678599   38.9828241  \n",
       "265  -76.9434800720619   38.9911726  \n",
       "271  -76.9379107465909   38.9948436  \n",
       "\n",
       "[415 rows x 5 columns]"
      ]
     },
     "execution_count": 4,
     "metadata": {},
     "output_type": "execute_result"
    }
   ],
   "source": [
    "with open(\"umdbuild.json\") as fh:\n",
    "    data = json.load(fh)\n",
    "    df = pd.json_normalize(data)\n",
    "df = df.rename(columns={'number':\"bld num\"})\n",
    "df.sort_values(by=\"bld num\")"
   ]
  },
  {
   "cell_type": "code",
   "execution_count": 5,
   "metadata": {},
   "outputs": [],
   "source": [
    "num = []\n",
    "latl = []\n",
    "longl = []\n",
    "df = df[df['bld num'].isin(btunuml)]\n",
    "for index, row in df.iterrows():\n",
    "        num.append(row['bld num'])\n",
    "        latl.append(row['lat'])\n",
    "        longl.append(row['lng'])\n",
    "buildingdict = {'number':num,'Lat':latl, 'Long':longl}\n",
    "resid = pd.DataFrame(buildingdict)"
   ]
  },
  {
   "cell_type": "code",
   "execution_count": 6,
   "metadata": {},
   "outputs": [
    {
     "data": {
      "text/html": [
       "<div>\n",
       "<style scoped>\n",
       "    .dataframe tbody tr th:only-of-type {\n",
       "        vertical-align: middle;\n",
       "    }\n",
       "\n",
       "    .dataframe tbody tr th {\n",
       "        vertical-align: top;\n",
       "    }\n",
       "\n",
       "    .dataframe thead th {\n",
       "        text-align: right;\n",
       "    }\n",
       "</style>\n",
       "<table border=\"1\" class=\"dataframe\">\n",
       "  <thead>\n",
       "    <tr style=\"text-align: right;\">\n",
       "      <th></th>\n",
       "      <th>number</th>\n",
       "      <th>Lat</th>\n",
       "      <th>Long</th>\n",
       "      <th>Name</th>\n",
       "      <th>Type</th>\n",
       "      <th>Jan 2015 (kBtu)</th>\n",
       "      <th>Feb 2015 (kBtu)</th>\n",
       "      <th>Mar 2015 (kBtu)</th>\n",
       "      <th>Apr 2015 (kBtu)</th>\n",
       "      <th>May 2015 (kBtu)</th>\n",
       "      <th>...</th>\n",
       "      <th>Apr 2023 (kBtu)</th>\n",
       "      <th>May 2023 (kBtu)</th>\n",
       "      <th>Jun 2023 (kBtu)</th>\n",
       "      <th>Jul 2023 (kBtu)</th>\n",
       "      <th>Aug 2023 (kBtu)</th>\n",
       "      <th>Sep 2023 (kBtu)</th>\n",
       "      <th>Oct 2023 (kBtu)</th>\n",
       "      <th>Nov 2023 (kBtu)</th>\n",
       "      <th>Dec 2023 (kBtu)</th>\n",
       "      <th>Total</th>\n",
       "    </tr>\n",
       "  </thead>\n",
       "  <tbody>\n",
       "    <tr>\n",
       "      <th>0</th>\n",
       "      <td>024</td>\n",
       "      <td>38.98157935</td>\n",
       "      <td>-76.9414146</td>\n",
       "      <td>Allegany Hall</td>\n",
       "      <td>Residential</td>\n",
       "      <td>33439</td>\n",
       "      <td>135844</td>\n",
       "      <td>69608</td>\n",
       "      <td>65377</td>\n",
       "      <td>52956</td>\n",
       "      <td>...</td>\n",
       "      <td>60426</td>\n",
       "      <td>55174</td>\n",
       "      <td>50428</td>\n",
       "      <td>41345</td>\n",
       "      <td>66977</td>\n",
       "      <td>29314</td>\n",
       "      <td>64851</td>\n",
       "      <td>55823</td>\n",
       "      <td>29570</td>\n",
       "      <td>6140214</td>\n",
       "    </tr>\n",
       "    <tr>\n",
       "      <th>1</th>\n",
       "      <td>172</td>\n",
       "      <td>38.9814223</td>\n",
       "      <td>-76.9360293156412</td>\n",
       "      <td>Alpha Chi Omega Sorority (4525 College Ave)</td>\n",
       "      <td>Residential</td>\n",
       "      <td>215283</td>\n",
       "      <td>206341</td>\n",
       "      <td>220553</td>\n",
       "      <td>219394</td>\n",
       "      <td>232927</td>\n",
       "      <td>...</td>\n",
       "      <td>126466</td>\n",
       "      <td>123699</td>\n",
       "      <td>124081</td>\n",
       "      <td>132677</td>\n",
       "      <td>108209</td>\n",
       "      <td>106031</td>\n",
       "      <td>118230</td>\n",
       "      <td>116157</td>\n",
       "      <td>116784</td>\n",
       "      <td>15529405</td>\n",
       "    </tr>\n",
       "    <tr>\n",
       "      <th>2</th>\n",
       "      <td>170</td>\n",
       "      <td>38.981239</td>\n",
       "      <td>-76.9352079623363</td>\n",
       "      <td>Alpha Delta Pi Sorority (4535 College Ave)</td>\n",
       "      <td>Residential</td>\n",
       "      <td>169680</td>\n",
       "      <td>141101</td>\n",
       "      <td>124632</td>\n",
       "      <td>118784</td>\n",
       "      <td>132501</td>\n",
       "      <td>...</td>\n",
       "      <td>106125</td>\n",
       "      <td>101750</td>\n",
       "      <td>82134</td>\n",
       "      <td>73161</td>\n",
       "      <td>87241</td>\n",
       "      <td>101166</td>\n",
       "      <td>107100</td>\n",
       "      <td>100528</td>\n",
       "      <td>90620</td>\n",
       "      <td>12161662</td>\n",
       "    </tr>\n",
       "    <tr>\n",
       "      <th>3</th>\n",
       "      <td>136</td>\n",
       "      <td>38.98324535</td>\n",
       "      <td>-76.93562535</td>\n",
       "      <td>House 11</td>\n",
       "      <td>Residential</td>\n",
       "      <td>35374</td>\n",
       "      <td>46742</td>\n",
       "      <td>48325</td>\n",
       "      <td>59357</td>\n",
       "      <td>64132</td>\n",
       "      <td>...</td>\n",
       "      <td>49312</td>\n",
       "      <td>41036</td>\n",
       "      <td>12613</td>\n",
       "      <td>11242</td>\n",
       "      <td>43146</td>\n",
       "      <td>61252</td>\n",
       "      <td>55763</td>\n",
       "      <td>40744</td>\n",
       "      <td>26538</td>\n",
       "      <td>4930794</td>\n",
       "    </tr>\n",
       "    <tr>\n",
       "      <th>4</th>\n",
       "      <td>129</td>\n",
       "      <td>38.9846571</td>\n",
       "      <td>-76.9351584</td>\n",
       "      <td>House 4</td>\n",
       "      <td>Residential</td>\n",
       "      <td>104970</td>\n",
       "      <td>134527</td>\n",
       "      <td>95532</td>\n",
       "      <td>60354</td>\n",
       "      <td>58288</td>\n",
       "      <td>...</td>\n",
       "      <td>25041</td>\n",
       "      <td>23858</td>\n",
       "      <td>21448</td>\n",
       "      <td>25016</td>\n",
       "      <td>24016</td>\n",
       "      <td>21968</td>\n",
       "      <td>19599</td>\n",
       "      <td>22777</td>\n",
       "      <td>51701</td>\n",
       "      <td>6005081</td>\n",
       "    </tr>\n",
       "    <tr>\n",
       "      <th>...</th>\n",
       "      <td>...</td>\n",
       "      <td>...</td>\n",
       "      <td>...</td>\n",
       "      <td>...</td>\n",
       "      <td>...</td>\n",
       "      <td>...</td>\n",
       "      <td>...</td>\n",
       "      <td>...</td>\n",
       "      <td>...</td>\n",
       "      <td>...</td>\n",
       "      <td>...</td>\n",
       "      <td>...</td>\n",
       "      <td>...</td>\n",
       "      <td>...</td>\n",
       "      <td>...</td>\n",
       "      <td>...</td>\n",
       "      <td>...</td>\n",
       "      <td>...</td>\n",
       "      <td>...</td>\n",
       "      <td>...</td>\n",
       "      <td>...</td>\n",
       "    </tr>\n",
       "    <tr>\n",
       "      <th>62</th>\n",
       "      <td>069</td>\n",
       "      <td>38.9837427</td>\n",
       "      <td>-76.9458442795105</td>\n",
       "      <td>Wicomico Hall</td>\n",
       "      <td>Residential</td>\n",
       "      <td>547236</td>\n",
       "      <td>501941</td>\n",
       "      <td>462750</td>\n",
       "      <td>87670</td>\n",
       "      <td>67241</td>\n",
       "      <td>...</td>\n",
       "      <td>98383</td>\n",
       "      <td>38776</td>\n",
       "      <td>24060</td>\n",
       "      <td>23571</td>\n",
       "      <td>53147</td>\n",
       "      <td>57924</td>\n",
       "      <td>110478</td>\n",
       "      <td>278575</td>\n",
       "      <td>398723</td>\n",
       "      <td>24023280</td>\n",
       "    </tr>\n",
       "    <tr>\n",
       "      <th>63</th>\n",
       "      <td>051</td>\n",
       "      <td>38.98467285</td>\n",
       "      <td>-76.9449993420465</td>\n",
       "      <td>Worcester Hall</td>\n",
       "      <td>Residential</td>\n",
       "      <td>319396</td>\n",
       "      <td>356048</td>\n",
       "      <td>278222</td>\n",
       "      <td>42721</td>\n",
       "      <td>50060</td>\n",
       "      <td>...</td>\n",
       "      <td>122527</td>\n",
       "      <td>80652</td>\n",
       "      <td>41717</td>\n",
       "      <td>7466</td>\n",
       "      <td>30579</td>\n",
       "      <td>109465</td>\n",
       "      <td>174292</td>\n",
       "      <td>182522</td>\n",
       "      <td>232739</td>\n",
       "      <td>13471898</td>\n",
       "    </tr>\n",
       "    <tr>\n",
       "      <th>64</th>\n",
       "      <td>139</td>\n",
       "      <td>38.9832052</td>\n",
       "      <td>-76.9371918048901</td>\n",
       "      <td>House 14</td>\n",
       "      <td>Residential</td>\n",
       "      <td>124491</td>\n",
       "      <td>143860</td>\n",
       "      <td>93038</td>\n",
       "      <td>60854</td>\n",
       "      <td>57414</td>\n",
       "      <td>...</td>\n",
       "      <td>62067</td>\n",
       "      <td>51470</td>\n",
       "      <td>32430</td>\n",
       "      <td>39357</td>\n",
       "      <td>54897</td>\n",
       "      <td>63072</td>\n",
       "      <td>56284</td>\n",
       "      <td>88936</td>\n",
       "      <td>85036</td>\n",
       "      <td>7836126</td>\n",
       "    </tr>\n",
       "    <tr>\n",
       "      <th>65</th>\n",
       "      <td>138</td>\n",
       "      <td>38.9832584</td>\n",
       "      <td>-76.9366895</td>\n",
       "      <td>House 13</td>\n",
       "      <td>Residential</td>\n",
       "      <td>31257</td>\n",
       "      <td>38683</td>\n",
       "      <td>37113</td>\n",
       "      <td>44837</td>\n",
       "      <td>53406</td>\n",
       "      <td>...</td>\n",
       "      <td>63384</td>\n",
       "      <td>53484</td>\n",
       "      <td>26535</td>\n",
       "      <td>21129</td>\n",
       "      <td>36198</td>\n",
       "      <td>62576</td>\n",
       "      <td>52783</td>\n",
       "      <td>92690</td>\n",
       "      <td>89158</td>\n",
       "      <td>6489951</td>\n",
       "    </tr>\n",
       "    <tr>\n",
       "      <th>66</th>\n",
       "      <td>137</td>\n",
       "      <td>38.98325535</td>\n",
       "      <td>-76.9361831249379</td>\n",
       "      <td>House 12</td>\n",
       "      <td>Residential</td>\n",
       "      <td>131239</td>\n",
       "      <td>149802</td>\n",
       "      <td>96668</td>\n",
       "      <td>64308</td>\n",
       "      <td>60218</td>\n",
       "      <td>...</td>\n",
       "      <td>65161</td>\n",
       "      <td>59158</td>\n",
       "      <td>55540</td>\n",
       "      <td>53980</td>\n",
       "      <td>58368</td>\n",
       "      <td>68007</td>\n",
       "      <td>60656</td>\n",
       "      <td>41963</td>\n",
       "      <td>76856</td>\n",
       "      <td>6970092</td>\n",
       "    </tr>\n",
       "  </tbody>\n",
       "</table>\n",
       "<p>67 rows × 114 columns</p>\n",
       "</div>"
      ],
      "text/plain": [
       "   number          Lat               Long  \\\n",
       "0     024  38.98157935        -76.9414146   \n",
       "1     172   38.9814223  -76.9360293156412   \n",
       "2     170    38.981239  -76.9352079623363   \n",
       "3     136  38.98324535       -76.93562535   \n",
       "4     129   38.9846571        -76.9351584   \n",
       "..    ...          ...                ...   \n",
       "62    069   38.9837427  -76.9458442795105   \n",
       "63    051  38.98467285  -76.9449993420465   \n",
       "64    139   38.9832052  -76.9371918048901   \n",
       "65    138   38.9832584        -76.9366895   \n",
       "66    137  38.98325535  -76.9361831249379   \n",
       "\n",
       "                                            Name         Type  \\\n",
       "0                                  Allegany Hall  Residential   \n",
       "1   Alpha Chi Omega Sorority (4525 College Ave)   Residential   \n",
       "2    Alpha Delta Pi Sorority (4535 College Ave)   Residential   \n",
       "3                                       House 11  Residential   \n",
       "4                                        House 4  Residential   \n",
       "..                                           ...          ...   \n",
       "62                                 Wicomico Hall  Residential   \n",
       "63                                Worcester Hall  Residential   \n",
       "64                                      House 14  Residential   \n",
       "65                                      House 13  Residential   \n",
       "66                                      House 12  Residential   \n",
       "\n",
       "    Jan 2015 (kBtu)  Feb 2015 (kBtu)  Mar 2015 (kBtu)  Apr 2015 (kBtu)  \\\n",
       "0             33439           135844            69608            65377   \n",
       "1            215283           206341           220553           219394   \n",
       "2            169680           141101           124632           118784   \n",
       "3             35374            46742            48325            59357   \n",
       "4            104970           134527            95532            60354   \n",
       "..              ...              ...              ...              ...   \n",
       "62           547236           501941           462750            87670   \n",
       "63           319396           356048           278222            42721   \n",
       "64           124491           143860            93038            60854   \n",
       "65            31257            38683            37113            44837   \n",
       "66           131239           149802            96668            64308   \n",
       "\n",
       "    May 2015 (kBtu)  ...  Apr 2023 (kBtu)  May 2023 (kBtu)  Jun 2023 (kBtu)  \\\n",
       "0             52956  ...            60426            55174            50428   \n",
       "1            232927  ...           126466           123699           124081   \n",
       "2            132501  ...           106125           101750            82134   \n",
       "3             64132  ...            49312            41036            12613   \n",
       "4             58288  ...            25041            23858            21448   \n",
       "..              ...  ...              ...              ...              ...   \n",
       "62            67241  ...            98383            38776            24060   \n",
       "63            50060  ...           122527            80652            41717   \n",
       "64            57414  ...            62067            51470            32430   \n",
       "65            53406  ...            63384            53484            26535   \n",
       "66            60218  ...            65161            59158            55540   \n",
       "\n",
       "    Jul 2023 (kBtu)  Aug 2023 (kBtu)  Sep 2023 (kBtu)  Oct 2023 (kBtu)  \\\n",
       "0             41345            66977            29314            64851   \n",
       "1            132677           108209           106031           118230   \n",
       "2             73161            87241           101166           107100   \n",
       "3             11242            43146            61252            55763   \n",
       "4             25016            24016            21968            19599   \n",
       "..              ...              ...              ...              ...   \n",
       "62            23571            53147            57924           110478   \n",
       "63             7466            30579           109465           174292   \n",
       "64            39357            54897            63072            56284   \n",
       "65            21129            36198            62576            52783   \n",
       "66            53980            58368            68007            60656   \n",
       "\n",
       "    Nov 2023 (kBtu)  Dec 2023 (kBtu)     Total  \n",
       "0             55823            29570   6140214  \n",
       "1            116157           116784  15529405  \n",
       "2            100528            90620  12161662  \n",
       "3             40744            26538   4930794  \n",
       "4             22777            51701   6005081  \n",
       "..              ...              ...       ...  \n",
       "62           278575           398723  24023280  \n",
       "63           182522           232739  13471898  \n",
       "64            88936            85036   7836126  \n",
       "65            92690            89158   6489951  \n",
       "66            41963            76856   6970092  \n",
       "\n",
       "[67 rows x 114 columns]"
      ]
     },
     "execution_count": 6,
     "metadata": {},
     "output_type": "execute_result"
    }
   ],
   "source": [
    "fdf = resid.merge(resBtu, how='left', on='number')\n",
    "fdf"
   ]
  },
  {
   "cell_type": "code",
   "execution_count": 9,
   "metadata": {},
   "outputs": [
    {
     "data": {
      "application/vnd.plotly.v1+json": {
       "config": {
        "plotlyServerURL": "https://plot.ly"
       },
       "data": [
        {
         "coloraxis": "coloraxis",
         "customdata": [
          [
           "Allegany Hall"
          ],
          [
           "Alpha Chi Omega Sorority (4525 College Ave) "
          ],
          [
           "Alpha Delta Pi Sorority (4535 College Ave) "
          ],
          [
           "House 11"
          ],
          [
           "House 4"
          ],
          [
           "Alpha Phi Sorority (7402 Princeton Ave)"
          ],
          [
           "House 9"
          ],
          [
           "Anne Arundel Hall"
          ],
          [
           "Baltimore Hall"
          ],
          [
           "Bel Air Hall"
          ],
          [
           "Calvert Hall"
          ],
          [
           "Cambridge Hall"
          ],
          [
           "Caroline Hall"
          ],
          [
           "Carroll Hall"
          ],
          [
           "Cecil Hall"
          ],
          [
           "Centreville Hall"
          ],
          [
           "Charles Hall"
          ],
          [
           "Chestertown Hall"
          ],
          [
           "Cumberland Hall"
          ],
          [
           "House 6"
          ],
          [
           "Delta Gamma Sorority (4518 Knox Rd) "
          ],
          [
           "Delta Phi Epsilon Sorority (4514 Knox Rd) "
          ],
          [
           "Denton Hall"
          ],
          [
           "Dorchester Hall"
          ],
          [
           "Easton Hall"
          ],
          [
           "Elkton Hall"
          ],
          [
           "Ellicott Hall"
          ],
          [
           "Frederick Hall"
          ],
          [
           "Garrett Hall"
          ],
          [
           "Hagerstown Hall"
          ],
          [
           "Howard Hall"
          ],
          [
           "House 1"
          ],
          [
           "Kent Hall"
          ],
          [
           "House 7"
          ],
          [
           "La Plata Hall"
          ],
          [
           "Leonardtown 238"
          ],
          [
           "Leonardtown 249"
          ],
          [
           "Leonardtown 248"
          ],
          [
           "Leonardtown 239"
          ],
          [
           "Leonardtown 244"
          ],
          [
           "Leonardtown 242"
          ],
          [
           "Leonardtown 249"
          ],
          [
           "Leonardtown 247"
          ],
          [
           "Leonardtown 246"
          ],
          [
           "Leonardtown 245"
          ],
          [
           "Leonardtown 243"
          ],
          [
           "Leonardtown 241"
          ],
          [
           "Leonardtown 240"
          ],
          [
           "Montgomery Hall"
          ],
          [
           "Oakland Hall"
          ],
          [
           "House 5"
          ],
          [
           "Phi Sigma Sigma Sorority (4531 College Ave) "
          ],
          [
           "House 2"
          ],
          [
           "Prince Georges Hall"
          ],
          [
           "Queen Annes Hall"
          ],
          [
           "Sigma Delta Tau Sorority (4516 Knox Rd) "
          ],
          [
           "House 10"
          ],
          [
           "House 8"
          ],
          [
           "Somerset Hall"
          ],
          [
           "St Marys Hall"
          ],
          [
           "House 3"
          ],
          [
           "Washington Hall"
          ],
          [
           "Wicomico Hall"
          ],
          [
           "Worcester Hall"
          ],
          [
           "House 14"
          ],
          [
           "House 13"
          ],
          [
           "House 12"
          ]
         ],
         "hovertemplate": "Total=%{z}<br>Lat=%{lat}<br>Long=%{lon}<br>Name=%{customdata[0]}<extra></extra>",
         "lat": [
          "38.98157935",
          "38.9814223",
          "38.981239",
          "38.98324535",
          "38.9846571",
          "38.9808974",
          "38.98329385",
          "38.98595025",
          "38.9822469",
          "38.99281705",
          "38.98292125",
          "38.99172105",
          "38.9834966",
          "38.9839834",
          "38.9829463",
          "38.992271",
          "38.9816226",
          "38.99280355",
          "38.9922614",
          "38.98432725",
          "38.9805908",
          "38.9807542",
          "38.99223865",
          "38.9867742",
          "38.9930193",
          "38.9925108",
          "38.9918228",
          "38.98204525",
          "38.98323575",
          "38.9924384",
          "38.98196065",
          "38.98468565",
          "38.98324525",
          "38.98394255",
          "38.9924497",
          "38.98288495",
          "38.98369045",
          "38.98395015",
          "38.98259145",
          "38.9848148",
          "38.9826975",
          "38.98369225",
          "38.9842544",
          "38.98432445",
          "38.9846063",
          "38.98295505",
          "38.98256985",
          "38.98269485",
          "38.9820505",
          "38.9938547",
          "38.9845988",
          "38.9813563",
          "38.9846297",
          "38.9825857",
          "38.98519025",
          "38.9806496",
          "38.9832453",
          "38.98356725",
          "38.9850026",
          "38.9870071",
          "38.9846469",
          "38.9818076",
          "38.9837427",
          "38.98467285",
          "38.9832052",
          "38.9832584",
          "38.98325535"
         ],
         "lon": [
          "-76.9414146",
          "-76.9360293156412",
          "-76.9352079623363",
          "-76.93562535",
          "-76.9351584",
          "-76.9352442035259",
          "-76.9346571906316",
          "-76.94673185",
          "-76.9421925409139",
          "-76.9426116",
          "-76.9423134911421",
          "-76.9430174173239",
          "-76.9457925",
          "-76.9456253332123",
          "-76.9416573737624",
          "-76.9421248952804",
          "-76.9405193937813",
          "-76.9434348",
          "-76.9439244117559",
          "-76.9341748748757",
          "-76.9354323628479",
          "-76.9363517104313",
          "-76.9499786106729",
          "-76.9461812019092",
          "-76.9502564099265",
          "-76.9489576649778",
          "-76.9466586443134",
          "-76.9407467785094",
          "-76.9426804",
          "-76.9474136961276",
          "-76.9419727992265",
          "-76.936671546034",
          "-76.9418433747954",
          "-76.9340275582429",
          "-76.9458907104711",
          "-76.9329720567893",
          "-76.933234970697",
          "-76.9334063277435",
          "-76.9328295569528",
          "-76.9337842335381",
          "-76.932084393545",
          "-76.93322662199752",
          "-76.9330952978623",
          "-76.9335417977186",
          "-76.9333959355818",
          "-76.9320609074038",
          "-76.9322669026445",
          "-76.932593405223",
          "-76.9396753369829",
          "-76.9492226797435",
          "-76.93463845",
          "-76.9356071135738",
          "-76.936200475",
          "-76.941826725",
          "-76.9460068545931",
          "-76.93587565",
          "-76.93514475",
          "-76.9341870726646",
          "-76.9455473",
          "-76.9455983683182",
          "-76.93563395",
          "-76.9413924749198",
          "-76.9458442795105",
          "-76.9449993420465",
          "-76.9371918048901",
          "-76.9366895",
          "-76.9361831249379"
         ],
         "name": "",
         "radius": 10,
         "subplot": "mapbox",
         "type": "densitymapbox",
         "z": [
          6140214,
          15529405,
          12161662,
          4930794,
          6005081,
          11915919,
          6725174,
          0,
          2730897,
          90792849,
          5629324,
          27029837,
          22621912,
          23950045,
          0,
          42222884,
          1782837,
          12156477,
          67849087,
          6626578,
          11286531,
          10666188,
          78546321,
          5921001,
          48117661,
          80408291,
          58665871,
          2435085,
          2672584,
          67261923,
          2390731,
          7796934,
          2306294,
          6966081,
          74833138,
          8554014,
          0,
          0,
          9910565,
          0,
          7243748,
          0,
          0,
          0,
          0,
          4180965,
          4631511,
          6771641,
          4524916,
          194679735,
          6397492,
          9003188,
          6588633,
          5394688,
          0,
          11455473,
          6933486,
          7695677,
          27616138,
          3954300,
          7008043,
          3079891,
          24023280,
          13471898,
          7836126,
          6489951,
          6970092
         ]
        }
       ],
       "layout": {
        "coloraxis": {
         "colorbar": {
          "title": {
           "text": "Total"
          }
         },
         "colorscale": [
          [
           0,
           "#0d0887"
          ],
          [
           0.1111111111111111,
           "#46039f"
          ],
          [
           0.2222222222222222,
           "#7201a8"
          ],
          [
           0.3333333333333333,
           "#9c179e"
          ],
          [
           0.4444444444444444,
           "#bd3786"
          ],
          [
           0.5555555555555556,
           "#d8576b"
          ],
          [
           0.6666666666666666,
           "#ed7953"
          ],
          [
           0.7777777777777778,
           "#fb9f3a"
          ],
          [
           0.8888888888888888,
           "#fdca26"
          ],
          [
           1,
           "#f0f921"
          ]
         ]
        },
        "legend": {
         "tracegroupgap": 0
        },
        "mapbox": {
         "center": {
          "lat": 38.99,
          "lon": -76.94
         },
         "domain": {
          "x": [
           0,
           1
          ],
          "y": [
           0,
           1
          ]
         },
         "style": "open-street-map",
         "zoom": 14
        },
        "margin": {
         "t": 60
        },
        "template": {
         "data": {
          "bar": [
           {
            "error_x": {
             "color": "#2a3f5f"
            },
            "error_y": {
             "color": "#2a3f5f"
            },
            "marker": {
             "line": {
              "color": "#E5ECF6",
              "width": 0.5
             },
             "pattern": {
              "fillmode": "overlay",
              "size": 10,
              "solidity": 0.2
             }
            },
            "type": "bar"
           }
          ],
          "barpolar": [
           {
            "marker": {
             "line": {
              "color": "#E5ECF6",
              "width": 0.5
             },
             "pattern": {
              "fillmode": "overlay",
              "size": 10,
              "solidity": 0.2
             }
            },
            "type": "barpolar"
           }
          ],
          "carpet": [
           {
            "aaxis": {
             "endlinecolor": "#2a3f5f",
             "gridcolor": "white",
             "linecolor": "white",
             "minorgridcolor": "white",
             "startlinecolor": "#2a3f5f"
            },
            "baxis": {
             "endlinecolor": "#2a3f5f",
             "gridcolor": "white",
             "linecolor": "white",
             "minorgridcolor": "white",
             "startlinecolor": "#2a3f5f"
            },
            "type": "carpet"
           }
          ],
          "choropleth": [
           {
            "colorbar": {
             "outlinewidth": 0,
             "ticks": ""
            },
            "type": "choropleth"
           }
          ],
          "contour": [
           {
            "colorbar": {
             "outlinewidth": 0,
             "ticks": ""
            },
            "colorscale": [
             [
              0,
              "#0d0887"
             ],
             [
              0.1111111111111111,
              "#46039f"
             ],
             [
              0.2222222222222222,
              "#7201a8"
             ],
             [
              0.3333333333333333,
              "#9c179e"
             ],
             [
              0.4444444444444444,
              "#bd3786"
             ],
             [
              0.5555555555555556,
              "#d8576b"
             ],
             [
              0.6666666666666666,
              "#ed7953"
             ],
             [
              0.7777777777777778,
              "#fb9f3a"
             ],
             [
              0.8888888888888888,
              "#fdca26"
             ],
             [
              1,
              "#f0f921"
             ]
            ],
            "type": "contour"
           }
          ],
          "contourcarpet": [
           {
            "colorbar": {
             "outlinewidth": 0,
             "ticks": ""
            },
            "type": "contourcarpet"
           }
          ],
          "heatmap": [
           {
            "colorbar": {
             "outlinewidth": 0,
             "ticks": ""
            },
            "colorscale": [
             [
              0,
              "#0d0887"
             ],
             [
              0.1111111111111111,
              "#46039f"
             ],
             [
              0.2222222222222222,
              "#7201a8"
             ],
             [
              0.3333333333333333,
              "#9c179e"
             ],
             [
              0.4444444444444444,
              "#bd3786"
             ],
             [
              0.5555555555555556,
              "#d8576b"
             ],
             [
              0.6666666666666666,
              "#ed7953"
             ],
             [
              0.7777777777777778,
              "#fb9f3a"
             ],
             [
              0.8888888888888888,
              "#fdca26"
             ],
             [
              1,
              "#f0f921"
             ]
            ],
            "type": "heatmap"
           }
          ],
          "heatmapgl": [
           {
            "colorbar": {
             "outlinewidth": 0,
             "ticks": ""
            },
            "colorscale": [
             [
              0,
              "#0d0887"
             ],
             [
              0.1111111111111111,
              "#46039f"
             ],
             [
              0.2222222222222222,
              "#7201a8"
             ],
             [
              0.3333333333333333,
              "#9c179e"
             ],
             [
              0.4444444444444444,
              "#bd3786"
             ],
             [
              0.5555555555555556,
              "#d8576b"
             ],
             [
              0.6666666666666666,
              "#ed7953"
             ],
             [
              0.7777777777777778,
              "#fb9f3a"
             ],
             [
              0.8888888888888888,
              "#fdca26"
             ],
             [
              1,
              "#f0f921"
             ]
            ],
            "type": "heatmapgl"
           }
          ],
          "histogram": [
           {
            "marker": {
             "pattern": {
              "fillmode": "overlay",
              "size": 10,
              "solidity": 0.2
             }
            },
            "type": "histogram"
           }
          ],
          "histogram2d": [
           {
            "colorbar": {
             "outlinewidth": 0,
             "ticks": ""
            },
            "colorscale": [
             [
              0,
              "#0d0887"
             ],
             [
              0.1111111111111111,
              "#46039f"
             ],
             [
              0.2222222222222222,
              "#7201a8"
             ],
             [
              0.3333333333333333,
              "#9c179e"
             ],
             [
              0.4444444444444444,
              "#bd3786"
             ],
             [
              0.5555555555555556,
              "#d8576b"
             ],
             [
              0.6666666666666666,
              "#ed7953"
             ],
             [
              0.7777777777777778,
              "#fb9f3a"
             ],
             [
              0.8888888888888888,
              "#fdca26"
             ],
             [
              1,
              "#f0f921"
             ]
            ],
            "type": "histogram2d"
           }
          ],
          "histogram2dcontour": [
           {
            "colorbar": {
             "outlinewidth": 0,
             "ticks": ""
            },
            "colorscale": [
             [
              0,
              "#0d0887"
             ],
             [
              0.1111111111111111,
              "#46039f"
             ],
             [
              0.2222222222222222,
              "#7201a8"
             ],
             [
              0.3333333333333333,
              "#9c179e"
             ],
             [
              0.4444444444444444,
              "#bd3786"
             ],
             [
              0.5555555555555556,
              "#d8576b"
             ],
             [
              0.6666666666666666,
              "#ed7953"
             ],
             [
              0.7777777777777778,
              "#fb9f3a"
             ],
             [
              0.8888888888888888,
              "#fdca26"
             ],
             [
              1,
              "#f0f921"
             ]
            ],
            "type": "histogram2dcontour"
           }
          ],
          "mesh3d": [
           {
            "colorbar": {
             "outlinewidth": 0,
             "ticks": ""
            },
            "type": "mesh3d"
           }
          ],
          "parcoords": [
           {
            "line": {
             "colorbar": {
              "outlinewidth": 0,
              "ticks": ""
             }
            },
            "type": "parcoords"
           }
          ],
          "pie": [
           {
            "automargin": true,
            "type": "pie"
           }
          ],
          "scatter": [
           {
            "fillpattern": {
             "fillmode": "overlay",
             "size": 10,
             "solidity": 0.2
            },
            "type": "scatter"
           }
          ],
          "scatter3d": [
           {
            "line": {
             "colorbar": {
              "outlinewidth": 0,
              "ticks": ""
             }
            },
            "marker": {
             "colorbar": {
              "outlinewidth": 0,
              "ticks": ""
             }
            },
            "type": "scatter3d"
           }
          ],
          "scattercarpet": [
           {
            "marker": {
             "colorbar": {
              "outlinewidth": 0,
              "ticks": ""
             }
            },
            "type": "scattercarpet"
           }
          ],
          "scattergeo": [
           {
            "marker": {
             "colorbar": {
              "outlinewidth": 0,
              "ticks": ""
             }
            },
            "type": "scattergeo"
           }
          ],
          "scattergl": [
           {
            "marker": {
             "colorbar": {
              "outlinewidth": 0,
              "ticks": ""
             }
            },
            "type": "scattergl"
           }
          ],
          "scattermapbox": [
           {
            "marker": {
             "colorbar": {
              "outlinewidth": 0,
              "ticks": ""
             }
            },
            "type": "scattermapbox"
           }
          ],
          "scatterpolar": [
           {
            "marker": {
             "colorbar": {
              "outlinewidth": 0,
              "ticks": ""
             }
            },
            "type": "scatterpolar"
           }
          ],
          "scatterpolargl": [
           {
            "marker": {
             "colorbar": {
              "outlinewidth": 0,
              "ticks": ""
             }
            },
            "type": "scatterpolargl"
           }
          ],
          "scatterternary": [
           {
            "marker": {
             "colorbar": {
              "outlinewidth": 0,
              "ticks": ""
             }
            },
            "type": "scatterternary"
           }
          ],
          "surface": [
           {
            "colorbar": {
             "outlinewidth": 0,
             "ticks": ""
            },
            "colorscale": [
             [
              0,
              "#0d0887"
             ],
             [
              0.1111111111111111,
              "#46039f"
             ],
             [
              0.2222222222222222,
              "#7201a8"
             ],
             [
              0.3333333333333333,
              "#9c179e"
             ],
             [
              0.4444444444444444,
              "#bd3786"
             ],
             [
              0.5555555555555556,
              "#d8576b"
             ],
             [
              0.6666666666666666,
              "#ed7953"
             ],
             [
              0.7777777777777778,
              "#fb9f3a"
             ],
             [
              0.8888888888888888,
              "#fdca26"
             ],
             [
              1,
              "#f0f921"
             ]
            ],
            "type": "surface"
           }
          ],
          "table": [
           {
            "cells": {
             "fill": {
              "color": "#EBF0F8"
             },
             "line": {
              "color": "white"
             }
            },
            "header": {
             "fill": {
              "color": "#C8D4E3"
             },
             "line": {
              "color": "white"
             }
            },
            "type": "table"
           }
          ]
         },
         "layout": {
          "annotationdefaults": {
           "arrowcolor": "#2a3f5f",
           "arrowhead": 0,
           "arrowwidth": 1
          },
          "autotypenumbers": "strict",
          "coloraxis": {
           "colorbar": {
            "outlinewidth": 0,
            "ticks": ""
           }
          },
          "colorscale": {
           "diverging": [
            [
             0,
             "#8e0152"
            ],
            [
             0.1,
             "#c51b7d"
            ],
            [
             0.2,
             "#de77ae"
            ],
            [
             0.3,
             "#f1b6da"
            ],
            [
             0.4,
             "#fde0ef"
            ],
            [
             0.5,
             "#f7f7f7"
            ],
            [
             0.6,
             "#e6f5d0"
            ],
            [
             0.7,
             "#b8e186"
            ],
            [
             0.8,
             "#7fbc41"
            ],
            [
             0.9,
             "#4d9221"
            ],
            [
             1,
             "#276419"
            ]
           ],
           "sequential": [
            [
             0,
             "#0d0887"
            ],
            [
             0.1111111111111111,
             "#46039f"
            ],
            [
             0.2222222222222222,
             "#7201a8"
            ],
            [
             0.3333333333333333,
             "#9c179e"
            ],
            [
             0.4444444444444444,
             "#bd3786"
            ],
            [
             0.5555555555555556,
             "#d8576b"
            ],
            [
             0.6666666666666666,
             "#ed7953"
            ],
            [
             0.7777777777777778,
             "#fb9f3a"
            ],
            [
             0.8888888888888888,
             "#fdca26"
            ],
            [
             1,
             "#f0f921"
            ]
           ],
           "sequentialminus": [
            [
             0,
             "#0d0887"
            ],
            [
             0.1111111111111111,
             "#46039f"
            ],
            [
             0.2222222222222222,
             "#7201a8"
            ],
            [
             0.3333333333333333,
             "#9c179e"
            ],
            [
             0.4444444444444444,
             "#bd3786"
            ],
            [
             0.5555555555555556,
             "#d8576b"
            ],
            [
             0.6666666666666666,
             "#ed7953"
            ],
            [
             0.7777777777777778,
             "#fb9f3a"
            ],
            [
             0.8888888888888888,
             "#fdca26"
            ],
            [
             1,
             "#f0f921"
            ]
           ]
          },
          "colorway": [
           "#636efa",
           "#EF553B",
           "#00cc96",
           "#ab63fa",
           "#FFA15A",
           "#19d3f3",
           "#FF6692",
           "#B6E880",
           "#FF97FF",
           "#FECB52"
          ],
          "font": {
           "color": "#2a3f5f"
          },
          "geo": {
           "bgcolor": "white",
           "lakecolor": "white",
           "landcolor": "#E5ECF6",
           "showlakes": true,
           "showland": true,
           "subunitcolor": "white"
          },
          "hoverlabel": {
           "align": "left"
          },
          "hovermode": "closest",
          "mapbox": {
           "style": "light"
          },
          "paper_bgcolor": "white",
          "plot_bgcolor": "#E5ECF6",
          "polar": {
           "angularaxis": {
            "gridcolor": "white",
            "linecolor": "white",
            "ticks": ""
           },
           "bgcolor": "#E5ECF6",
           "radialaxis": {
            "gridcolor": "white",
            "linecolor": "white",
            "ticks": ""
           }
          },
          "scene": {
           "xaxis": {
            "backgroundcolor": "#E5ECF6",
            "gridcolor": "white",
            "gridwidth": 2,
            "linecolor": "white",
            "showbackground": true,
            "ticks": "",
            "zerolinecolor": "white"
           },
           "yaxis": {
            "backgroundcolor": "#E5ECF6",
            "gridcolor": "white",
            "gridwidth": 2,
            "linecolor": "white",
            "showbackground": true,
            "ticks": "",
            "zerolinecolor": "white"
           },
           "zaxis": {
            "backgroundcolor": "#E5ECF6",
            "gridcolor": "white",
            "gridwidth": 2,
            "linecolor": "white",
            "showbackground": true,
            "ticks": "",
            "zerolinecolor": "white"
           }
          },
          "shapedefaults": {
           "line": {
            "color": "#2a3f5f"
           }
          },
          "ternary": {
           "aaxis": {
            "gridcolor": "white",
            "linecolor": "white",
            "ticks": ""
           },
           "baxis": {
            "gridcolor": "white",
            "linecolor": "white",
            "ticks": ""
           },
           "bgcolor": "#E5ECF6",
           "caxis": {
            "gridcolor": "white",
            "linecolor": "white",
            "ticks": ""
           }
          },
          "title": {
           "x": 0.05
          },
          "xaxis": {
           "automargin": true,
           "gridcolor": "white",
           "linecolor": "white",
           "ticks": "",
           "title": {
            "standoff": 15
           },
           "zerolinecolor": "white",
           "zerolinewidth": 2
          },
          "yaxis": {
           "automargin": true,
           "gridcolor": "white",
           "linecolor": "white",
           "ticks": "",
           "title": {
            "standoff": 15
           },
           "zerolinecolor": "white",
           "zerolinewidth": 2
          }
         }
        },
        "title": {
         "text": "All Residential Heat Output"
        }
       }
      },
      "text/html": [
       "<div>                            <div id=\"0e827a9f-25f5-40a9-be0c-9496b2c3f43d\" class=\"plotly-graph-div\" style=\"height:525px; width:100%;\"></div>            <script type=\"text/javascript\">                require([\"plotly\"], function(Plotly) {                    window.PLOTLYENV=window.PLOTLYENV || {};                                    if (document.getElementById(\"0e827a9f-25f5-40a9-be0c-9496b2c3f43d\")) {                    Plotly.newPlot(                        \"0e827a9f-25f5-40a9-be0c-9496b2c3f43d\",                        [{\"coloraxis\":\"coloraxis\",\"customdata\":[[\"Allegany Hall\"],[\"Alpha Chi Omega Sorority (4525 College Ave) \"],[\"Alpha Delta Pi Sorority (4535 College Ave) \"],[\"House 11\"],[\"House 4\"],[\"Alpha Phi Sorority (7402 Princeton Ave)\"],[\"House 9\"],[\"Anne Arundel Hall\"],[\"Baltimore Hall\"],[\"Bel Air Hall\"],[\"Calvert Hall\"],[\"Cambridge Hall\"],[\"Caroline Hall\"],[\"Carroll Hall\"],[\"Cecil Hall\"],[\"Centreville Hall\"],[\"Charles Hall\"],[\"Chestertown Hall\"],[\"Cumberland Hall\"],[\"House 6\"],[\"Delta Gamma Sorority (4518 Knox Rd) \"],[\"Delta Phi Epsilon Sorority (4514 Knox Rd) \"],[\"Denton Hall\"],[\"Dorchester Hall\"],[\"Easton Hall\"],[\"Elkton Hall\"],[\"Ellicott Hall\"],[\"Frederick Hall\"],[\"Garrett Hall\"],[\"Hagerstown Hall\"],[\"Howard Hall\"],[\"House 1\"],[\"Kent Hall\"],[\"House 7\"],[\"La Plata Hall\"],[\"Leonardtown 238\"],[\"Leonardtown 249\"],[\"Leonardtown 248\"],[\"Leonardtown 239\"],[\"Leonardtown 244\"],[\"Leonardtown 242\"],[\"Leonardtown 249\"],[\"Leonardtown 247\"],[\"Leonardtown 246\"],[\"Leonardtown 245\"],[\"Leonardtown 243\"],[\"Leonardtown 241\"],[\"Leonardtown 240\"],[\"Montgomery Hall\"],[\"Oakland Hall\"],[\"House 5\"],[\"Phi Sigma Sigma Sorority (4531 College Ave) \"],[\"House 2\"],[\"Prince Georges Hall\"],[\"Queen Annes Hall\"],[\"Sigma Delta Tau Sorority (4516 Knox Rd) \"],[\"House 10\"],[\"House 8\"],[\"Somerset Hall\"],[\"St Marys Hall\"],[\"House 3\"],[\"Washington Hall\"],[\"Wicomico Hall\"],[\"Worcester Hall\"],[\"House 14\"],[\"House 13\"],[\"House 12\"]],\"hovertemplate\":\"Total=%{z}\\u003cbr\\u003eLat=%{lat}\\u003cbr\\u003eLong=%{lon}\\u003cbr\\u003eName=%{customdata[0]}\\u003cextra\\u003e\\u003c\\u002fextra\\u003e\",\"lat\":[\"38.98157935\",\"38.9814223\",\"38.981239\",\"38.98324535\",\"38.9846571\",\"38.9808974\",\"38.98329385\",\"38.98595025\",\"38.9822469\",\"38.99281705\",\"38.98292125\",\"38.99172105\",\"38.9834966\",\"38.9839834\",\"38.9829463\",\"38.992271\",\"38.9816226\",\"38.99280355\",\"38.9922614\",\"38.98432725\",\"38.9805908\",\"38.9807542\",\"38.99223865\",\"38.9867742\",\"38.9930193\",\"38.9925108\",\"38.9918228\",\"38.98204525\",\"38.98323575\",\"38.9924384\",\"38.98196065\",\"38.98468565\",\"38.98324525\",\"38.98394255\",\"38.9924497\",\"38.98288495\",\"38.98369045\",\"38.98395015\",\"38.98259145\",\"38.9848148\",\"38.9826975\",\"38.98369225\",\"38.9842544\",\"38.98432445\",\"38.9846063\",\"38.98295505\",\"38.98256985\",\"38.98269485\",\"38.9820505\",\"38.9938547\",\"38.9845988\",\"38.9813563\",\"38.9846297\",\"38.9825857\",\"38.98519025\",\"38.9806496\",\"38.9832453\",\"38.98356725\",\"38.9850026\",\"38.9870071\",\"38.9846469\",\"38.9818076\",\"38.9837427\",\"38.98467285\",\"38.9832052\",\"38.9832584\",\"38.98325535\"],\"lon\":[\"-76.9414146\",\"-76.9360293156412\",\"-76.9352079623363\",\"-76.93562535\",\"-76.9351584\",\"-76.9352442035259\",\"-76.9346571906316\",\"-76.94673185\",\"-76.9421925409139\",\"-76.9426116\",\"-76.9423134911421\",\"-76.9430174173239\",\"-76.9457925\",\"-76.9456253332123\",\"-76.9416573737624\",\"-76.9421248952804\",\"-76.9405193937813\",\"-76.9434348\",\"-76.9439244117559\",\"-76.9341748748757\",\"-76.9354323628479\",\"-76.9363517104313\",\"-76.9499786106729\",\"-76.9461812019092\",\"-76.9502564099265\",\"-76.9489576649778\",\"-76.9466586443134\",\"-76.9407467785094\",\"-76.9426804\",\"-76.9474136961276\",\"-76.9419727992265\",\"-76.936671546034\",\"-76.9418433747954\",\"-76.9340275582429\",\"-76.9458907104711\",\"-76.9329720567893\",\"-76.933234970697\",\"-76.9334063277435\",\"-76.9328295569528\",\"-76.9337842335381\",\"-76.932084393545\",\"-76.93322662199752\",\"-76.9330952978623\",\"-76.9335417977186\",\"-76.9333959355818\",\"-76.9320609074038\",\"-76.9322669026445\",\"-76.932593405223\",\"-76.9396753369829\",\"-76.9492226797435\",\"-76.93463845\",\"-76.9356071135738\",\"-76.936200475\",\"-76.941826725\",\"-76.9460068545931\",\"-76.93587565\",\"-76.93514475\",\"-76.9341870726646\",\"-76.9455473\",\"-76.9455983683182\",\"-76.93563395\",\"-76.9413924749198\",\"-76.9458442795105\",\"-76.9449993420465\",\"-76.9371918048901\",\"-76.9366895\",\"-76.9361831249379\"],\"name\":\"\",\"radius\":10,\"subplot\":\"mapbox\",\"z\":[6140214,15529405,12161662,4930794,6005081,11915919,6725174,0,2730897,90792849,5629324,27029837,22621912,23950045,0,42222884,1782837,12156477,67849087,6626578,11286531,10666188,78546321,5921001,48117661,80408291,58665871,2435085,2672584,67261923,2390731,7796934,2306294,6966081,74833138,8554014,0,0,9910565,0,7243748,0,0,0,0,4180965,4631511,6771641,4524916,194679735,6397492,9003188,6588633,5394688,0,11455473,6933486,7695677,27616138,3954300,7008043,3079891,24023280,13471898,7836126,6489951,6970092],\"type\":\"densitymapbox\"}],                        {\"template\":{\"data\":{\"histogram2dcontour\":[{\"type\":\"histogram2dcontour\",\"colorbar\":{\"outlinewidth\":0,\"ticks\":\"\"},\"colorscale\":[[0.0,\"#0d0887\"],[0.1111111111111111,\"#46039f\"],[0.2222222222222222,\"#7201a8\"],[0.3333333333333333,\"#9c179e\"],[0.4444444444444444,\"#bd3786\"],[0.5555555555555556,\"#d8576b\"],[0.6666666666666666,\"#ed7953\"],[0.7777777777777778,\"#fb9f3a\"],[0.8888888888888888,\"#fdca26\"],[1.0,\"#f0f921\"]]}],\"choropleth\":[{\"type\":\"choropleth\",\"colorbar\":{\"outlinewidth\":0,\"ticks\":\"\"}}],\"histogram2d\":[{\"type\":\"histogram2d\",\"colorbar\":{\"outlinewidth\":0,\"ticks\":\"\"},\"colorscale\":[[0.0,\"#0d0887\"],[0.1111111111111111,\"#46039f\"],[0.2222222222222222,\"#7201a8\"],[0.3333333333333333,\"#9c179e\"],[0.4444444444444444,\"#bd3786\"],[0.5555555555555556,\"#d8576b\"],[0.6666666666666666,\"#ed7953\"],[0.7777777777777778,\"#fb9f3a\"],[0.8888888888888888,\"#fdca26\"],[1.0,\"#f0f921\"]]}],\"heatmap\":[{\"type\":\"heatmap\",\"colorbar\":{\"outlinewidth\":0,\"ticks\":\"\"},\"colorscale\":[[0.0,\"#0d0887\"],[0.1111111111111111,\"#46039f\"],[0.2222222222222222,\"#7201a8\"],[0.3333333333333333,\"#9c179e\"],[0.4444444444444444,\"#bd3786\"],[0.5555555555555556,\"#d8576b\"],[0.6666666666666666,\"#ed7953\"],[0.7777777777777778,\"#fb9f3a\"],[0.8888888888888888,\"#fdca26\"],[1.0,\"#f0f921\"]]}],\"heatmapgl\":[{\"type\":\"heatmapgl\",\"colorbar\":{\"outlinewidth\":0,\"ticks\":\"\"},\"colorscale\":[[0.0,\"#0d0887\"],[0.1111111111111111,\"#46039f\"],[0.2222222222222222,\"#7201a8\"],[0.3333333333333333,\"#9c179e\"],[0.4444444444444444,\"#bd3786\"],[0.5555555555555556,\"#d8576b\"],[0.6666666666666666,\"#ed7953\"],[0.7777777777777778,\"#fb9f3a\"],[0.8888888888888888,\"#fdca26\"],[1.0,\"#f0f921\"]]}],\"contourcarpet\":[{\"type\":\"contourcarpet\",\"colorbar\":{\"outlinewidth\":0,\"ticks\":\"\"}}],\"contour\":[{\"type\":\"contour\",\"colorbar\":{\"outlinewidth\":0,\"ticks\":\"\"},\"colorscale\":[[0.0,\"#0d0887\"],[0.1111111111111111,\"#46039f\"],[0.2222222222222222,\"#7201a8\"],[0.3333333333333333,\"#9c179e\"],[0.4444444444444444,\"#bd3786\"],[0.5555555555555556,\"#d8576b\"],[0.6666666666666666,\"#ed7953\"],[0.7777777777777778,\"#fb9f3a\"],[0.8888888888888888,\"#fdca26\"],[1.0,\"#f0f921\"]]}],\"surface\":[{\"type\":\"surface\",\"colorbar\":{\"outlinewidth\":0,\"ticks\":\"\"},\"colorscale\":[[0.0,\"#0d0887\"],[0.1111111111111111,\"#46039f\"],[0.2222222222222222,\"#7201a8\"],[0.3333333333333333,\"#9c179e\"],[0.4444444444444444,\"#bd3786\"],[0.5555555555555556,\"#d8576b\"],[0.6666666666666666,\"#ed7953\"],[0.7777777777777778,\"#fb9f3a\"],[0.8888888888888888,\"#fdca26\"],[1.0,\"#f0f921\"]]}],\"mesh3d\":[{\"type\":\"mesh3d\",\"colorbar\":{\"outlinewidth\":0,\"ticks\":\"\"}}],\"scatter\":[{\"fillpattern\":{\"fillmode\":\"overlay\",\"size\":10,\"solidity\":0.2},\"type\":\"scatter\"}],\"parcoords\":[{\"type\":\"parcoords\",\"line\":{\"colorbar\":{\"outlinewidth\":0,\"ticks\":\"\"}}}],\"scatterpolargl\":[{\"type\":\"scatterpolargl\",\"marker\":{\"colorbar\":{\"outlinewidth\":0,\"ticks\":\"\"}}}],\"bar\":[{\"error_x\":{\"color\":\"#2a3f5f\"},\"error_y\":{\"color\":\"#2a3f5f\"},\"marker\":{\"line\":{\"color\":\"#E5ECF6\",\"width\":0.5},\"pattern\":{\"fillmode\":\"overlay\",\"size\":10,\"solidity\":0.2}},\"type\":\"bar\"}],\"scattergeo\":[{\"type\":\"scattergeo\",\"marker\":{\"colorbar\":{\"outlinewidth\":0,\"ticks\":\"\"}}}],\"scatterpolar\":[{\"type\":\"scatterpolar\",\"marker\":{\"colorbar\":{\"outlinewidth\":0,\"ticks\":\"\"}}}],\"histogram\":[{\"marker\":{\"pattern\":{\"fillmode\":\"overlay\",\"size\":10,\"solidity\":0.2}},\"type\":\"histogram\"}],\"scattergl\":[{\"type\":\"scattergl\",\"marker\":{\"colorbar\":{\"outlinewidth\":0,\"ticks\":\"\"}}}],\"scatter3d\":[{\"type\":\"scatter3d\",\"line\":{\"colorbar\":{\"outlinewidth\":0,\"ticks\":\"\"}},\"marker\":{\"colorbar\":{\"outlinewidth\":0,\"ticks\":\"\"}}}],\"scattermapbox\":[{\"type\":\"scattermapbox\",\"marker\":{\"colorbar\":{\"outlinewidth\":0,\"ticks\":\"\"}}}],\"scatterternary\":[{\"type\":\"scatterternary\",\"marker\":{\"colorbar\":{\"outlinewidth\":0,\"ticks\":\"\"}}}],\"scattercarpet\":[{\"type\":\"scattercarpet\",\"marker\":{\"colorbar\":{\"outlinewidth\":0,\"ticks\":\"\"}}}],\"carpet\":[{\"aaxis\":{\"endlinecolor\":\"#2a3f5f\",\"gridcolor\":\"white\",\"linecolor\":\"white\",\"minorgridcolor\":\"white\",\"startlinecolor\":\"#2a3f5f\"},\"baxis\":{\"endlinecolor\":\"#2a3f5f\",\"gridcolor\":\"white\",\"linecolor\":\"white\",\"minorgridcolor\":\"white\",\"startlinecolor\":\"#2a3f5f\"},\"type\":\"carpet\"}],\"table\":[{\"cells\":{\"fill\":{\"color\":\"#EBF0F8\"},\"line\":{\"color\":\"white\"}},\"header\":{\"fill\":{\"color\":\"#C8D4E3\"},\"line\":{\"color\":\"white\"}},\"type\":\"table\"}],\"barpolar\":[{\"marker\":{\"line\":{\"color\":\"#E5ECF6\",\"width\":0.5},\"pattern\":{\"fillmode\":\"overlay\",\"size\":10,\"solidity\":0.2}},\"type\":\"barpolar\"}],\"pie\":[{\"automargin\":true,\"type\":\"pie\"}]},\"layout\":{\"autotypenumbers\":\"strict\",\"colorway\":[\"#636efa\",\"#EF553B\",\"#00cc96\",\"#ab63fa\",\"#FFA15A\",\"#19d3f3\",\"#FF6692\",\"#B6E880\",\"#FF97FF\",\"#FECB52\"],\"font\":{\"color\":\"#2a3f5f\"},\"hovermode\":\"closest\",\"hoverlabel\":{\"align\":\"left\"},\"paper_bgcolor\":\"white\",\"plot_bgcolor\":\"#E5ECF6\",\"polar\":{\"bgcolor\":\"#E5ECF6\",\"angularaxis\":{\"gridcolor\":\"white\",\"linecolor\":\"white\",\"ticks\":\"\"},\"radialaxis\":{\"gridcolor\":\"white\",\"linecolor\":\"white\",\"ticks\":\"\"}},\"ternary\":{\"bgcolor\":\"#E5ECF6\",\"aaxis\":{\"gridcolor\":\"white\",\"linecolor\":\"white\",\"ticks\":\"\"},\"baxis\":{\"gridcolor\":\"white\",\"linecolor\":\"white\",\"ticks\":\"\"},\"caxis\":{\"gridcolor\":\"white\",\"linecolor\":\"white\",\"ticks\":\"\"}},\"coloraxis\":{\"colorbar\":{\"outlinewidth\":0,\"ticks\":\"\"}},\"colorscale\":{\"sequential\":[[0.0,\"#0d0887\"],[0.1111111111111111,\"#46039f\"],[0.2222222222222222,\"#7201a8\"],[0.3333333333333333,\"#9c179e\"],[0.4444444444444444,\"#bd3786\"],[0.5555555555555556,\"#d8576b\"],[0.6666666666666666,\"#ed7953\"],[0.7777777777777778,\"#fb9f3a\"],[0.8888888888888888,\"#fdca26\"],[1.0,\"#f0f921\"]],\"sequentialminus\":[[0.0,\"#0d0887\"],[0.1111111111111111,\"#46039f\"],[0.2222222222222222,\"#7201a8\"],[0.3333333333333333,\"#9c179e\"],[0.4444444444444444,\"#bd3786\"],[0.5555555555555556,\"#d8576b\"],[0.6666666666666666,\"#ed7953\"],[0.7777777777777778,\"#fb9f3a\"],[0.8888888888888888,\"#fdca26\"],[1.0,\"#f0f921\"]],\"diverging\":[[0,\"#8e0152\"],[0.1,\"#c51b7d\"],[0.2,\"#de77ae\"],[0.3,\"#f1b6da\"],[0.4,\"#fde0ef\"],[0.5,\"#f7f7f7\"],[0.6,\"#e6f5d0\"],[0.7,\"#b8e186\"],[0.8,\"#7fbc41\"],[0.9,\"#4d9221\"],[1,\"#276419\"]]},\"xaxis\":{\"gridcolor\":\"white\",\"linecolor\":\"white\",\"ticks\":\"\",\"title\":{\"standoff\":15},\"zerolinecolor\":\"white\",\"automargin\":true,\"zerolinewidth\":2},\"yaxis\":{\"gridcolor\":\"white\",\"linecolor\":\"white\",\"ticks\":\"\",\"title\":{\"standoff\":15},\"zerolinecolor\":\"white\",\"automargin\":true,\"zerolinewidth\":2},\"scene\":{\"xaxis\":{\"backgroundcolor\":\"#E5ECF6\",\"gridcolor\":\"white\",\"linecolor\":\"white\",\"showbackground\":true,\"ticks\":\"\",\"zerolinecolor\":\"white\",\"gridwidth\":2},\"yaxis\":{\"backgroundcolor\":\"#E5ECF6\",\"gridcolor\":\"white\",\"linecolor\":\"white\",\"showbackground\":true,\"ticks\":\"\",\"zerolinecolor\":\"white\",\"gridwidth\":2},\"zaxis\":{\"backgroundcolor\":\"#E5ECF6\",\"gridcolor\":\"white\",\"linecolor\":\"white\",\"showbackground\":true,\"ticks\":\"\",\"zerolinecolor\":\"white\",\"gridwidth\":2}},\"shapedefaults\":{\"line\":{\"color\":\"#2a3f5f\"}},\"annotationdefaults\":{\"arrowcolor\":\"#2a3f5f\",\"arrowhead\":0,\"arrowwidth\":1},\"geo\":{\"bgcolor\":\"white\",\"landcolor\":\"#E5ECF6\",\"subunitcolor\":\"white\",\"showland\":true,\"showlakes\":true,\"lakecolor\":\"white\"},\"title\":{\"x\":0.05},\"mapbox\":{\"style\":\"light\"}}},\"mapbox\":{\"domain\":{\"x\":[0.0,1.0],\"y\":[0.0,1.0]},\"center\":{\"lat\":38.99,\"lon\":-76.94},\"zoom\":14,\"style\":\"open-street-map\"},\"coloraxis\":{\"colorbar\":{\"title\":{\"text\":\"Total\"}},\"colorscale\":[[0.0,\"#0d0887\"],[0.1111111111111111,\"#46039f\"],[0.2222222222222222,\"#7201a8\"],[0.3333333333333333,\"#9c179e\"],[0.4444444444444444,\"#bd3786\"],[0.5555555555555556,\"#d8576b\"],[0.6666666666666666,\"#ed7953\"],[0.7777777777777778,\"#fb9f3a\"],[0.8888888888888888,\"#fdca26\"],[1.0,\"#f0f921\"]]},\"legend\":{\"tracegroupgap\":0},\"margin\":{\"t\":60},\"title\":{\"text\":\"All Residential Heat Output\"}},                        {\"responsive\": true}                    ).then(function(){\n",
       "                            \n",
       "var gd = document.getElementById('0e827a9f-25f5-40a9-be0c-9496b2c3f43d');\n",
       "var x = new MutationObserver(function (mutations, observer) {{\n",
       "        var display = window.getComputedStyle(gd).display;\n",
       "        if (!display || display === 'none') {{\n",
       "            console.log([gd, 'removed!']);\n",
       "            Plotly.purge(gd);\n",
       "            observer.disconnect();\n",
       "        }}\n",
       "}});\n",
       "\n",
       "// Listen for the removal of the full notebook cells\n",
       "var notebookContainer = gd.closest('#notebook-container');\n",
       "if (notebookContainer) {{\n",
       "    x.observe(notebookContainer, {childList: true});\n",
       "}}\n",
       "\n",
       "// Listen for the clearing of the current output cell\n",
       "var outputEl = gd.closest('.output');\n",
       "if (outputEl) {{\n",
       "    x.observe(outputEl, {childList: true});\n",
       "}}\n",
       "\n",
       "                        })                };                });            </script>        </div>"
      ]
     },
     "metadata": {},
     "output_type": "display_data"
    }
   ],
   "source": [
    "import plotly.express as px\n",
    "fig = px.density_mapbox(fdf, lat='Lat', lon='Long', z='Total', radius=10,\n",
    "                        center=dict(lat=38.99, lon=-76.94), zoom=14,\n",
    "                        mapbox_style=\"open-street-map\",hover_data='Name')\n",
    "fig.update_layout(title = \"All Residential Heat Output\")\n",
    "fig.show()"
   ]
  },
  {
   "cell_type": "code",
   "execution_count": 8,
   "metadata": {},
   "outputs": [],
   "source": [
    "#https://www.askpython.com/python/python-geopy-to-find-geocode-of-an-address\n",
    "# from geopy.geocoders import Nominatim\n",
    "# from geopy.extra.rate_limiter import RateLimiter\n",
    " \n",
    "# #Creating an instance of Nominatim Class\n",
    "# geolocator = Nominatim(user_agent=\"my_request\")\n",
    " \n",
    "# #applying the rate limiter wrapper\n",
    "# geocode = RateLimiter(geolocator.geocode, min_delay_seconds=1)\n",
    " \n",
    "# #Applying the method to pandas DataFrame\n",
    "# reggtforms['location'] = reggtforms['Res-Hall'].apply(geocode)\n",
    "# reggtforms['Lat'] = reggtforms['location'].apply(lambda x: x.latitude if x else None)\n",
    "# reggtforms['Long'] = reggtforms['location'].apply(lambda x: x.longitude if x else None)"
   ]
  }
 ],
 "metadata": {
  "kernelspec": {
   "display_name": "sd212",
   "language": "python",
   "name": "python3"
  },
  "language_info": {
   "codemirror_mode": {
    "name": "ipython",
    "version": 3
   },
   "file_extension": ".py",
   "mimetype": "text/x-python",
   "name": "python",
   "nbconvert_exporter": "python",
   "pygments_lexer": "ipython3",
   "version": "3.12.1"
  }
 },
 "nbformat": 4,
 "nbformat_minor": 2
}
