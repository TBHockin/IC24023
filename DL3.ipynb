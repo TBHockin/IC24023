{
 "cells": [
  {
   "cell_type": "code",
   "execution_count": 1,
   "metadata": {},
   "outputs": [
    {
     "name": "stdout",
     "output_type": "stream",
     "text": [
      "0                         AY\n",
      "1                       Form\n",
      "2                  Form-Type\n",
      "3                  Timestamp\n",
      "4                      AM-PM\n",
      "5                  Year-Date\n",
      "6                   Year-Num\n",
      "7                  Month-Num\n",
      "8                 Month-Char\n",
      "9                   UniqueID\n",
      "10       UMD-Email-Suffix-OG\n",
      "11    UMD-Email-Suffix-Clean\n",
      "12              Email-Suffix\n",
      "13                     Grade\n",
      "14                 Grade-Num\n",
      "15             Green-Chapter\n",
      "16                   Housing\n",
      "17       Green-Chapter_House\n",
      "18                     House\n",
      "19                  Res-Hall\n",
      "20                  Room-Num\n",
      "21                 Apartment\n",
      "22              Address_Full\n",
      "23                      City\n",
      "24                     State\n",
      "25                   Zipcode\n",
      "26              Full_Choices\n",
      "27            Choices_Reduce\n",
      "28          Choices_Products\n",
      "29           Choices_Commute\n",
      "30              Choices_Dine\n",
      "31            Choices_Energy\n",
      "32             Choices_Water\n",
      "33           Choices_Choices\n",
      "34         Choices_Awareness\n",
      "35             Choices_Count\n",
      "36                    Habits\n",
      "37          GT_Participation\n",
      "38               Form_Access\n",
      "39               Suggestions\n",
      "Name: Column Name, dtype: object\n"
     ]
    }
   ],
   "source": [
    "import pandas as pd\n",
    "df = pd.read_csv('DataDictionary_Level3_GreenTerp - Sheet1.csv')\n",
    "print(df['Column Name'][0:40])"
   ]
  },
  {
   "cell_type": "code",
   "execution_count": 2,
   "metadata": {},
   "outputs": [
    {
     "data": {
      "text/plain": [
       "<bound method NDFrame.head of               AY                     Form      Form-Type  \\\n",
       "0      2022-2023   2022-2023 Registration   Registration   \n",
       "1      2022-2023   2022-2023 Registration   Registration   \n",
       "2      2022-2023   2022-2023 Registration   Registration   \n",
       "3      2022-2023   2022-2023 Registration   Registration   \n",
       "4      2022-2023   2022-2023 Registration   Registration   \n",
       "...          ...                      ...            ...   \n",
       "10990  2018-2019  2018-2019 Certification  Certification   \n",
       "10991  2018-2019  2018-2019 Certification  Certification   \n",
       "10992  2018-2019  2018-2019 Certification  Certification   \n",
       "10993  2018-2019  2018-2019 Certification  Certification   \n",
       "10994  2018-2019  2018-2019 Certification  Certification   \n",
       "\n",
       "                    Timestamp AM-PM  Year-Date  Year-Num  Month-Num  \\\n",
       "0      08/19/2022 12:11:45 PM    PM       2022      2022          8   \n",
       "1       08/20/2022 3:31:08 PM    PM       2022      2022          8   \n",
       "2       08/24/2022 9:05:24 PM    PM       2022      2022          8   \n",
       "3       08/25/2022 9:12:33 AM    AM       2022      2022          8   \n",
       "4       08/25/2022 9:31:12 AM    AM       2022      2022          8   \n",
       "...                       ...   ...        ...       ...        ...   \n",
       "10990   04/26/2019 1:58:42 PM    PM       2019      2019          4   \n",
       "10991   04/26/2019 3:03:20 PM    PM       2019      2019          4   \n",
       "10992   04/26/2019 9:14:56 PM    PM       2019      2019          4   \n",
       "10993  04/26/2019 10:28:15 PM    PM       2019      2019          4   \n",
       "10994  04/27/2019 12:53:56 AM    AM       2019      2019          4   \n",
       "\n",
       "      Month-Char   UniqueID  ...  \\\n",
       "0         August  111006945  ...   \n",
       "1         August  111003962  ...   \n",
       "2         August  111002137  ...   \n",
       "3         August  111006111  ...   \n",
       "4         August  111002154  ...   \n",
       "...          ...        ...  ...   \n",
       "10990      April  111002885  ...   \n",
       "10991      April  111004732  ...   \n",
       "10992      April  111007511  ...   \n",
       "10993      April  111003784  ...   \n",
       "10994      April  111002454  ...   \n",
       "\n",
       "                                             Full_Energy energy_tech-sleep  \\\n",
       "0                                                    NaN               NaN   \n",
       "1                                                    NaN               NaN   \n",
       "2                                                    NaN               NaN   \n",
       "3                                                    NaN               NaN   \n",
       "4                                                    NaN               NaN   \n",
       "...                                                  ...               ...   \n",
       "10990  I turn off lights when they are not in use and...               1.0   \n",
       "10991  I turn off lights when they are not in use and...               1.0   \n",
       "10992              I replaced one bulb with an LED bulb.               0.0   \n",
       "10993  I turn off lights when they are not in use and...               1.0   \n",
       "10994  I turn off lights when they are not in use and...               0.0   \n",
       "\n",
       "      energy_natural-light energy_fridge  energy_bulbs  \\\n",
       "0                      NaN           NaN           NaN   \n",
       "1                      NaN           NaN           NaN   \n",
       "2                      NaN           NaN           NaN   \n",
       "3                      NaN           NaN           NaN   \n",
       "4                      NaN           NaN           NaN   \n",
       "...                    ...           ...           ...   \n",
       "10990                  1.0           0.0           1.0   \n",
       "10991                  1.0           1.0           0.0   \n",
       "10992                  0.0           0.0           1.0   \n",
       "10993                  1.0           1.0           1.0   \n",
       "10994                  1.0           0.0           0.0   \n",
       "\n",
       "                                           Full_Cleaning cleaning_supplies  \\\n",
       "0                                                    NaN               NaN   \n",
       "1                                                    NaN               NaN   \n",
       "2                                                    NaN               NaN   \n",
       "3                                                    NaN               NaN   \n",
       "4                                                    NaN               NaN   \n",
       "...                                                  ...               ...   \n",
       "10990  I avoid wearing scented personal care products...               0.0   \n",
       "10991  I use aluminum-free deodorant and/or anti-pers...               0.0   \n",
       "10992  I have made or purchased a multi-purpose green...               0.0   \n",
       "10993  I use aluminum-free deodorant and/or anti-pers...               1.0   \n",
       "10994  I have made or purchased a multi-purpose green...               0.0   \n",
       "\n",
       "      cleaning_cleaner cleaning_microwave cleaning_nontoxic  \n",
       "0                  NaN                NaN               NaN  \n",
       "1                  NaN                NaN               NaN  \n",
       "2                  NaN                NaN               NaN  \n",
       "3                  NaN                NaN               NaN  \n",
       "4                  NaN                NaN               NaN  \n",
       "...                ...                ...               ...  \n",
       "10990              0.0                0.0               1.0  \n",
       "10991              0.0                1.0               1.0  \n",
       "10992              1.0                0.0               0.0  \n",
       "10993              0.0                1.0               1.0  \n",
       "10994              1.0                1.0               0.0  \n",
       "\n",
       "[10995 rows x 78 columns]>"
      ]
     },
     "execution_count": 2,
     "metadata": {},
     "output_type": "execute_result"
    }
   ],
   "source": [
    "df2 = pd.read_csv('Data_Level3_GreenTerp - Cleaned.csv',low_memory=False)\n",
    "df2.head"
   ]
  },
  {
   "cell_type": "code",
   "execution_count": 10,
   "metadata": {},
   "outputs": [
    {
     "name": "stderr",
     "output_type": "stream",
     "text": [
      "/tmp/ipykernel_289658/1743620123.py:1: DtypeWarning: Columns (25,26,37,39,40) have mixed types. Specify dtype option on import or set low_memory=False.\n",
      "  greenTerp = pd.read_csv('Data_Level3_GreenTerp - Cleaned.csv')\n"
     ]
    },
    {
     "data": {
      "text/plain": [
       "Full_Choices\n",
       "I will make sustainable choices, I will reduce waste, recycle & compost, I will save water, I will eat ethically, I will commute greener, I will conserve energy, I will choose safe & green products                  2677\n",
       "I will make sustainable choices;I will reduce waste, recycle & compost;I will save water;I will eat ethically;I will commute greener;I will conserve energy;I will choose safe & green products                        1892\n",
       "I will promote and spread sustainability awareness, I will reduce waste, recycle & compost, I will save water, I will dine green, I will commute smart, I will conserve energy, I will choose safe & green products     327\n",
       "I will make sustainable choices                                                                                                                                                                                          58\n",
       "I will make sustainable choices, I will reduce waste, recycle & compost, I will save water, I will commute greener, I will conserve energy, I will choose safe & green products                                          57\n",
       "                                                                                                                                                                                                                       ... \n",
       "I will make sustainable choices, I will save water, I will choose safe & green products                                                                                                                                   1\n",
       "I will make sustainable choices, I will reduce waste, recycle & compost, I will eat ethically, I will choose safe & green products                                                                                        1\n",
       "I will make sustainable choices, I will save water, I will eat ethically, I will conserve energy, I will choose safe & green products                                                                                     1\n",
       "I will eat ethically, I will commute greener                                                                                                                                                                              1\n",
       "I will commute greener, I will conserve energy                                                                                                                                                                            1\n",
       "Name: count, Length: 196, dtype: int64"
      ]
     },
     "execution_count": 10,
     "metadata": {},
     "output_type": "execute_result"
    }
   ],
   "source": [
    "greenTerp = pd.read_csv('Data_Level3_GreenTerp - Cleaned.csv')\n",
    "gt2 = greenTerp['Full_Choices']\n",
    "gt2.value_counts()"
   ]
  }
 ],
 "metadata": {
  "kernelspec": {
   "display_name": "sd212",
   "language": "python",
   "name": "python3"
  },
  "language_info": {
   "codemirror_mode": {
    "name": "ipython",
    "version": 3
   },
   "file_extension": ".py",
   "mimetype": "text/x-python",
   "name": "python",
   "nbconvert_exporter": "python",
   "pygments_lexer": "ipython3",
   "version": "3.12.1"
  }
 },
 "nbformat": 4,
 "nbformat_minor": 2
}
