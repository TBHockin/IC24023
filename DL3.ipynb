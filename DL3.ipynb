{
 "cells": [
  {
   "cell_type": "code",
   "execution_count": 4,
   "metadata": {},
   "outputs": [
    {
     "name": "stdout",
     "output_type": "stream",
     "text": [
      "0                         AY\n",
      "1                       Form\n",
      "2                  Form-Type\n",
      "3                  Timestamp\n",
      "4                      AM-PM\n",
      "5                  Year-Date\n",
      "6                   Year-Num\n",
      "7                  Month-Num\n",
      "8                 Month-Char\n",
      "9                   UniqueID\n",
      "10       UMD-Email-Suffix-OG\n",
      "11    UMD-Email-Suffix-Clean\n",
      "12              Email-Suffix\n",
      "13                     Grade\n",
      "14                 Grade-Num\n",
      "15             Green-Chapter\n",
      "16                   Housing\n",
      "17       Green-Chapter_House\n",
      "18                     House\n",
      "19                  Res-Hall\n",
      "20                  Room-Num\n",
      "21                 Apartment\n",
      "22              Address_Full\n",
      "23                      City\n",
      "24                     State\n",
      "25                   Zipcode\n",
      "26              Full_Choices\n",
      "27            Choices_Reduce\n",
      "28          Choices_Products\n",
      "29           Choices_Commute\n",
      "30              Choices_Dine\n",
      "31            Choices_Energy\n",
      "32             Choices_Water\n",
      "33           Choices_Choices\n",
      "34         Choices_Awareness\n",
      "35             Choices_Count\n",
      "36                    Habits\n",
      "37          GT_Participation\n",
      "38               Form_Access\n",
      "39               Suggestions\n",
      "Name: Column Name, dtype: object\n"
     ]
    }
   ],
   "source": [
    "import pandas as pd\n",
    "df = pd.read_csv('DataDictionary_Level3_GreenTerp - Sheet1.csv')\n",
    "print(df['Column Name'][0:40])"
   ]
  },
  {
   "cell_type": "code",
   "execution_count": 1,
   "metadata": {},
   "outputs": [
    {
     "ename": "NameError",
     "evalue": "name 'pd' is not defined",
     "output_type": "error",
     "traceback": [
      "\u001b[0;31m---------------------------------------------------------------------------\u001b[0m",
      "\u001b[0;31mNameError\u001b[0m                                 Traceback (most recent call last)",
      "Cell \u001b[0;32mIn[1], line 1\u001b[0m\n\u001b[0;32m----> 1\u001b[0m df2 \u001b[38;5;241m=\u001b[39m \u001b[43mpd\u001b[49m\u001b[38;5;241m.\u001b[39mread_csv(\u001b[38;5;124m'\u001b[39m\u001b[38;5;124mData_Level3_GreenTerp - Cleaned.csv\u001b[39m\u001b[38;5;124m'\u001b[39m,low_memory\u001b[38;5;241m=\u001b[39m\u001b[38;5;28;01mFalse\u001b[39;00m)\n\u001b[1;32m      2\u001b[0m df2\u001b[38;5;241m.\u001b[39mhead\n",
      "\u001b[0;31mNameError\u001b[0m: name 'pd' is not defined"
     ]
    }
   ],
   "source": [
    "df2 = pd.read_csv('Data_Level3_GreenTerp - Cleaned.csv',low_memory=False)\n",
    "df2.head"
   ]
  },
  {
   "cell_type": "code",
   "execution_count": null,
   "metadata": {},
   "outputs": [],
   "source": []
  }
 ],
 "metadata": {
  "kernelspec": {
   "display_name": "sd212",
   "language": "python",
   "name": "python3"
  },
  "language_info": {
   "codemirror_mode": {
    "name": "ipython",
    "version": 3
   },
   "file_extension": ".py",
   "mimetype": "text/x-python",
   "name": "python",
   "nbconvert_exporter": "python",
   "pygments_lexer": "ipython3",
   "version": "3.12.1"
  }
 },
 "nbformat": 4,
 "nbformat_minor": 2
}
